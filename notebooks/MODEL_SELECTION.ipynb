{
 "cells": [
  {
   "cell_type": "code",
   "execution_count": 7,
   "id": "8a4caacd",
   "metadata": {},
   "outputs": [
    {
     "name": "stdout",
     "output_type": "stream",
     "text": [
      "✅ Feature selezionate (12):\n",
      "['Job Title', 'Industry', 'Job Status', 'AI Impact Level', 'Required Education', 'Experience Required (Years)', 'Job Openings (2024)', 'Projected Openings (2030)', 'Remote Work Ratio (%)', 'Automation Risk (%)', 'Location', 'Gender Diversity (%)']\n",
      "\n",
      "📁 Dataset salvato in: e:\\Download-E\\PROGETTO PYTHON PERSONALE\\data\\training_MS.csv\n",
      "📝 Lista feature salvata in: e:\\Download-E\\PROGETTO PYTHON PERSONALE\\data\\feature_selected_rf.txt\n"
     ]
    }
   ],
   "source": [
    "# --- Step 1: Import ---\n",
    "import pandas as pd\n",
    "import numpy as np\n",
    "import os\n",
    "from sklearn.ensemble import RandomForestRegressor\n",
    "from sklearn.inspection import permutation_importance\n",
    "import sys\n",
    "import sqlite3\n",
    "\n",
    "\n",
    "# Assumi che il file config.py sia in src/\n",
    "sys.path.append(os.path.abspath('..'))\n",
    "from src import config  # config.RAW_DATA_PATH deve essere definito\n",
    "from src.config import RAW_DATA_PATH\n",
    "# --- 2. Funzioni di preprocessing ---\n",
    "\n",
    "input_file = os.path.join(RAW_DATA_PATH, \"dati_training.csv\")\n",
    "output_file = os.path.join(RAW_DATA_PATH, \"training_MS.csv\")\n",
    "feature_list_file = os.path.join(RAW_DATA_PATH, \"feature_selected_rf.txt\")\n",
    "\n",
    "# --- Step 3: Parametri ---\n",
    "TARGET_COL = \"Median Salary (USD)\"  # cambia se necessario\n",
    "IMPORTANCE_THRESHOLD = 0.01         # soglia minima di importanza\n",
    "\n",
    "# --- Step 4: Carica dati ---\n",
    "df = pd.read_csv(input_file)\n",
    "X = df.drop(columns=[TARGET_COL])\n",
    "y = df[TARGET_COL]\n",
    "\n",
    "# --- Step 5: Codifica minima per le categoriche (senza modificarle nei salvataggi) ---\n",
    "X_encoded = X.copy()\n",
    "for col in X_encoded.select_dtypes(include=\"object\").columns:\n",
    "    X_encoded[col], _ = X_encoded[col].factorize()\n",
    "\n",
    "# --- Step 6: Addestra Random Forest e calcola permutation importance ---\n",
    "rf = RandomForestRegressor(n_estimators=100, random_state=42, n_jobs=-1)\n",
    "rf.fit(X_encoded, y)\n",
    "\n",
    "result = permutation_importance(rf, X_encoded, y, n_repeats=10, random_state=42, n_jobs=1)\n",
    "\n",
    "importances = pd.Series(result.importances_mean, index=X_encoded.columns)\n",
    "\n",
    "# --- Step 7: Seleziona le feature più importanti ---\n",
    "selected_features = importances[importances > IMPORTANCE_THRESHOLD].index.tolist()\n",
    "print(f\"✅ Feature selezionate ({len(selected_features)}):\\n{selected_features}\")\n",
    "\n",
    "# --- Step 8: Crea nuovo DataFrame con le feature selezionate e salva ---\n",
    "X_selected = X[selected_features].copy()  # usa X originale per mantenere i valori categorici originali\n",
    "X_selected[TARGET_COL] = y\n",
    "X_selected.to_csv(output_file, index=False)\n",
    "\n",
    "# --- Step 9: Salva la lista delle feature selezionate ---\n",
    "with open(feature_list_file, \"w\") as f:\n",
    "    for feat in selected_features:\n",
    "        f.write(f\"{feat}\\n\")\n",
    "\n",
    "print(f\"\\n📁 Dataset salvato in: {output_file}\")\n",
    "print(f\"📝 Lista feature salvata in: {feature_list_file}\")\n"
   ]
  }
 ],
 "metadata": {
  "kernelspec": {
   "display_name": "Python 3",
   "language": "python",
   "name": "python3"
  },
  "language_info": {
   "codemirror_mode": {
    "name": "ipython",
    "version": 3
   },
   "file_extension": ".py",
   "mimetype": "text/x-python",
   "name": "python",
   "nbconvert_exporter": "python",
   "pygments_lexer": "ipython3",
   "version": "3.13.2"
  }
 },
 "nbformat": 4,
 "nbformat_minor": 5
}

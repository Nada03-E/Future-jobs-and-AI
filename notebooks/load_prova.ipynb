{
 "cells": [
  {
   "cell_type": "code",
   "execution_count": 6,
   "id": "5046ea04",
   "metadata": {},
   "outputs": [],
   "source": [
    "import sqlite3\n",
    "import pandas as pd\n",
    "import sys\n",
    "import os\n",
    "sys.path.append(os.path.abspath('..'))  \n",
    "from src import config\n",
    "\n",
    "import logging\n",
    "# Set up logging\n",
    "\n",
    "def load_data():\n",
    "    logging.info('Apertuira file cvs...')\n",
    "    path = f\"{config.RAW_DATA_PATH}{\"data/ai_job_trends_dataset.csv\"}\"\n",
    "    df = pd.read_csv(path, sep=',')\n",
    "   \n",
    "    print(f\"Righe iniziali: {df.shape[0]}\")\n",
    "    df = df.dropna()\n",
    "    print(f\"Righe dopo rimozione NaN: {df.shape[0]}\")\n",
    "\n",
    "    df = df.drop_duplicates()\n",
    "\n",
    "    return df\n"
   ]
  }
 ],
 "metadata": {
  "kernelspec": {
   "display_name": "Python 3",
   "language": "python",
   "name": "python3"
  },
  "language_info": {
   "codemirror_mode": {
    "name": "ipython",
    "version": 3
   },
   "file_extension": ".py",
   "mimetype": "text/x-python",
   "name": "python",
   "nbconvert_exporter": "python",
   "pygments_lexer": "ipython3",
   "version": "3.13.2"
  }
 },
 "nbformat": 4,
 "nbformat_minor": 5
}

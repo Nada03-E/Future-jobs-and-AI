{
 "cells": [
  {
   "cell_type": "code",
   "execution_count": 29,
   "id": "5046ea04",
   "metadata": {},
   "outputs": [
    {
     "name": "stdout",
     "output_type": "stream",
     "text": [
      "PATH CSV: e:\\Download-E\\PROGETTO PYTHON PERSONALE\\data\\ai_job_trends_dataset.csv\n",
      "Righe iniziali: 30000\n",
      "Righe dopo rimozione NaN: 30000\n"
     ]
    }
   ],
   "source": [
    "import sqlite3\n",
    "import pandas as pd\n",
    "import sys\n",
    "import os\n",
    "\n",
    "from src import config\n",
    "\n",
    "import logging\n",
    "# Set up logging\n",
    "import importlib\n",
    "import src.config\n",
    "importlib.reload(src.config)\n",
    "\n",
    "\n",
    "def load_data_prova():\n",
    "\n",
    "    logging.info('Apertuira file cvs...')\n",
    "    path = os.path.join(config.RAW_DATA_PATH, \"ai_job_trends_dataset.csv\")\n",
    "\n",
    "    print(\"PATH CSV:\", os.path.join(config.RAW_DATA_PATH, \"ai_job_trends_dataset.csv\"))\n",
    "\n",
    "    df = pd.read_csv(path, sep=',')\n",
    "   \n",
    "    print(f\"Righe iniziali: {df.shape[0]}\")\n",
    "    df = df.dropna()\n",
    "    print(f\"Righe dopo rimozione NaN: {df.shape[0]}\")\n",
    "\n",
    "    df = df.drop_duplicates()\n",
    " \n",
    "    df.reset_index(drop=True, inplace=True)\n",
    "    \n",
    "\n",
    "    # Create a connection to the SQLite database (or create if it doesn't exist)\n",
    "    conn = sqlite3.connect(config.DATABASE_PATH)\n",
    "\n",
    "    # Write the DataFrame to a table (replace 'my_table' with your desired table name)\n",
    "    df.to_sql(config.RAW_TABLE, conn, if_exists='replace', index=False)\n",
    "\n",
    "    # Commit and close the connection\n",
    "    conn.commit()\n",
    "    conn.close()\n",
    "\n",
    "    logging.info(f\"Data successfully written to {config.RAW_TABLE} table.\")\n",
    "\n",
    "load_data_prova()"
   ]
  },
  {
   "cell_type": "code",
   "execution_count": 30,
   "id": "14e59747",
   "metadata": {},
   "outputs": [
    {
     "name": "stdout",
     "output_type": "stream",
     "text": [
      "               Job Title       Industry  Job Status AI Impact Level  \\\n",
      "0     Investment analyst             IT  Increasing        Moderate   \n",
      "1  Journalist, newspaper  Manufacturing  Increasing        Moderate   \n",
      "2      Financial planner        Finance  Increasing             Low   \n",
      "3        Legal secretary     Healthcare  Increasing            High   \n",
      "4  Aeronautical engineer             IT  Increasing             Low   \n",
      "\n",
      "   Median Salary (USD) Required Education  Experience Required (Years)  \\\n",
      "0             42109.76    Master’s Degree                            5   \n",
      "1            132298.57    Master’s Degree                           15   \n",
      "2            143279.19  Bachelor’s Degree                            4   \n",
      "3             97576.13   Associate Degree                           15   \n",
      "4             60956.63    Master’s Degree                           13   \n",
      "\n",
      "   Job Openings (2024)  Projected Openings (2030)  Remote Work Ratio (%)  \\\n",
      "0                 1515                       6342                  55.96   \n",
      "1                 1243                       6205                  16.81   \n",
      "2                 3338                       1154                  91.82   \n",
      "3                 7173                       4060                   1.89   \n",
      "4                 5944                       7396                  53.76   \n",
      "\n",
      "   Automation Risk (%)   Location  Gender Diversity (%)  \n",
      "0                28.28         UK                 44.63  \n",
      "1                89.71        USA                 66.39  \n",
      "2                72.97     Canada                 41.13  \n",
      "3                99.94  Australia                 65.76  \n",
      "4                37.65    Germany                 72.57  \n"
     ]
    }
   ],
   "source": [
    "import sqlite3\n",
    "import pandas as pd\n",
    "from src import config\n",
    "\n",
    "# Connessione al database\n",
    "conn = sqlite3.connect(config.DATABASE_PATH)\n",
    "\n",
    "# Leggi i primi 5 record dalla tabella\n",
    "df_check = pd.read_sql(f\"SELECT * FROM {config.RAW_TABLE} LIMIT 5\", conn)\n",
    "\n",
    "print(df_check)\n",
    "\n",
    "conn.close()"
   ]
  }
 ],
 "metadata": {
  "kernelspec": {
   "display_name": "Python 3",
   "language": "python",
   "name": "python3"
  },
  "language_info": {
   "codemirror_mode": {
    "name": "ipython",
    "version": 3
   },
   "file_extension": ".py",
   "mimetype": "text/x-python",
   "name": "python",
   "nbconvert_exporter": "python",
   "pygments_lexer": "ipython3",
   "version": "3.13.2"
  }
 },
 "nbformat": 4,
 "nbformat_minor": 5
}
